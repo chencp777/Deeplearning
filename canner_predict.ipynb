{
 "cells": [
  {
   "cell_type": "code",
   "execution_count": 1,
   "metadata": {},
   "outputs": [
    {
     "name": "stderr",
     "output_type": "stream",
     "text": [
      "D:\\software\\anaconda3\\envs\\tf2\\lib\\site-packages\\tensorflow\\python\\framework\\dtypes.py:523: FutureWarning: Passing (type, 1) or '1type' as a synonym of type is deprecated; in a future version of numpy, it will be understood as (type, (1,)) / '(1,)type'.\n",
      "  _np_qint8 = np.dtype([(\"qint8\", np.int8, 1)])\n",
      "D:\\software\\anaconda3\\envs\\tf2\\lib\\site-packages\\tensorflow\\python\\framework\\dtypes.py:524: FutureWarning: Passing (type, 1) or '1type' as a synonym of type is deprecated; in a future version of numpy, it will be understood as (type, (1,)) / '(1,)type'.\n",
      "  _np_quint8 = np.dtype([(\"quint8\", np.uint8, 1)])\n",
      "D:\\software\\anaconda3\\envs\\tf2\\lib\\site-packages\\tensorflow\\python\\framework\\dtypes.py:525: FutureWarning: Passing (type, 1) or '1type' as a synonym of type is deprecated; in a future version of numpy, it will be understood as (type, (1,)) / '(1,)type'.\n",
      "  _np_qint16 = np.dtype([(\"qint16\", np.int16, 1)])\n",
      "D:\\software\\anaconda3\\envs\\tf2\\lib\\site-packages\\tensorflow\\python\\framework\\dtypes.py:526: FutureWarning: Passing (type, 1) or '1type' as a synonym of type is deprecated; in a future version of numpy, it will be understood as (type, (1,)) / '(1,)type'.\n",
      "  _np_quint16 = np.dtype([(\"quint16\", np.uint16, 1)])\n",
      "D:\\software\\anaconda3\\envs\\tf2\\lib\\site-packages\\tensorflow\\python\\framework\\dtypes.py:527: FutureWarning: Passing (type, 1) or '1type' as a synonym of type is deprecated; in a future version of numpy, it will be understood as (type, (1,)) / '(1,)type'.\n",
      "  _np_qint32 = np.dtype([(\"qint32\", np.int32, 1)])\n",
      "D:\\software\\anaconda3\\envs\\tf2\\lib\\site-packages\\tensorflow\\python\\framework\\dtypes.py:532: FutureWarning: Passing (type, 1) or '1type' as a synonym of type is deprecated; in a future version of numpy, it will be understood as (type, (1,)) / '(1,)type'.\n",
      "  np_resource = np.dtype([(\"resource\", np.ubyte, 1)])\n",
      "D:\\software\\anaconda3\\envs\\tf2\\lib\\site-packages\\tensorboard\\compat\\tensorflow_stub\\dtypes.py:541: FutureWarning: Passing (type, 1) or '1type' as a synonym of type is deprecated; in a future version of numpy, it will be understood as (type, (1,)) / '(1,)type'.\n",
      "  _np_qint8 = np.dtype([(\"qint8\", np.int8, 1)])\n",
      "D:\\software\\anaconda3\\envs\\tf2\\lib\\site-packages\\tensorboard\\compat\\tensorflow_stub\\dtypes.py:542: FutureWarning: Passing (type, 1) or '1type' as a synonym of type is deprecated; in a future version of numpy, it will be understood as (type, (1,)) / '(1,)type'.\n",
      "  _np_quint8 = np.dtype([(\"quint8\", np.uint8, 1)])\n",
      "D:\\software\\anaconda3\\envs\\tf2\\lib\\site-packages\\tensorboard\\compat\\tensorflow_stub\\dtypes.py:543: FutureWarning: Passing (type, 1) or '1type' as a synonym of type is deprecated; in a future version of numpy, it will be understood as (type, (1,)) / '(1,)type'.\n",
      "  _np_qint16 = np.dtype([(\"qint16\", np.int16, 1)])\n",
      "D:\\software\\anaconda3\\envs\\tf2\\lib\\site-packages\\tensorboard\\compat\\tensorflow_stub\\dtypes.py:544: FutureWarning: Passing (type, 1) or '1type' as a synonym of type is deprecated; in a future version of numpy, it will be understood as (type, (1,)) / '(1,)type'.\n",
      "  _np_quint16 = np.dtype([(\"quint16\", np.uint16, 1)])\n",
      "D:\\software\\anaconda3\\envs\\tf2\\lib\\site-packages\\tensorboard\\compat\\tensorflow_stub\\dtypes.py:545: FutureWarning: Passing (type, 1) or '1type' as a synonym of type is deprecated; in a future version of numpy, it will be understood as (type, (1,)) / '(1,)type'.\n",
      "  _np_qint32 = np.dtype([(\"qint32\", np.int32, 1)])\n",
      "D:\\software\\anaconda3\\envs\\tf2\\lib\\site-packages\\tensorboard\\compat\\tensorflow_stub\\dtypes.py:550: FutureWarning: Passing (type, 1) or '1type' as a synonym of type is deprecated; in a future version of numpy, it will be understood as (type, (1,)) / '(1,)type'.\n",
      "  np_resource = np.dtype([(\"resource\", np.ubyte, 1)])\n"
     ]
    }
   ],
   "source": [
    "import tensorflow as tf\n",
    "import pandas as pd\n",
    "import seaborn as sns\n",
    "import matplotlib.pyplot as plt"
   ]
  },
  {
   "cell_type": "code",
   "execution_count": 2,
   "metadata": {},
   "outputs": [
    {
     "name": "stdout",
     "output_type": "stream",
     "text": [
      "Index(['id', 'gastric cancer', 'sex', 'brith', 'height', 'weight',\n",
      "       'esophagus cancer', 'intestinal cancer', 'high salinity',\n",
      "       'salted product', 'fry', 'fresh fruits', 'fresh vegetables', 'tea',\n",
      "       'smoking', 'alcohol', 'alcohol degree', 'alcohol seq', 'alcohol years',\n",
      "       'water source', 'hot tea', 'eating speed', 'diabetes', 'high blood',\n",
      "       'hypertriglyceridemia', 'Hp', 'chronic atrophic gastritis',\n",
      "       'intestinal metaplasia', 'dysplasia', 'gastric polyps', 'anemia',\n",
      "       'gastric ulcer', 'G17', 'hp', 'PGR', 'PGI', 'pgii'],\n",
      "      dtype='object')\n",
      "(3754, 37)\n"
     ]
    }
   ],
   "source": [
    "df=pd.read_csv(\"cancer_predict.csv\")\n",
    "print(df.columns)\n",
    "#df.describe()\n",
    "#df.fry.value_counts()  查看某一列值的种类\n",
    "print(df.shape)"
   ]
  },
  {
   "cell_type": "markdown",
   "metadata": {},
   "source": [
    "### 数据清洗"
   ]
  },
  {
   "cell_type": "code",
   "execution_count": 8,
   "metadata": {},
   "outputs": [],
   "source": [
    "##缺失值统计\n",
    "na_count = df.isnull().sum().sort_values(ascending=False)\n",
    "na_rate = na_count / len(df)\n",
    "na_data = pd.concat([na_count,na_rate],axis=1,keys=['count','ratio'])"
   ]
  },
  {
   "cell_type": "code",
   "execution_count": 9,
   "metadata": {},
   "outputs": [
    {
     "data": {
      "text/plain": [
       "pgii                          0\n",
       "alcohol years                 0\n",
       "sex                           0\n",
       "weight                        0\n",
       "esophagus cancer              0\n",
       "intestinal cancer             0\n",
       "high salinity                 0\n",
       "salted product                0\n",
       "fry                           0\n",
       "fresh fruits                  0\n",
       "fresh vegetables              0\n",
       "smoking                       0\n",
       "alcohol                       0\n",
       "alcohol degree                0\n",
       "alcohol seq                   0\n",
       "eating speed                  0\n",
       "PGI                           0\n",
       "diabetes                      0\n",
       "high blood                    0\n",
       "hypertriglyceridemia          0\n",
       "Hp                            0\n",
       "chronic atrophic gastritis    0\n",
       "intestinal metaplasia         0\n",
       "dysplasia                     0\n",
       "gastric polyps                0\n",
       "anemia                        0\n",
       "gastric ulcer                 0\n",
       "G17                           0\n",
       "hp                            0\n",
       "PGR                           0\n",
       "gastric cancer                0\n",
       "dtype: int64"
      ]
     },
     "execution_count": 9,
     "metadata": {},
     "output_type": "execute_result"
    }
   ],
   "source": [
    "na_count"
   ]
  },
  {
   "cell_type": "code",
   "execution_count": 10,
   "metadata": {},
   "outputs": [
    {
     "data": {
      "text/plain": [
       "gastric cancer                  int32\n",
       "sex                             int32\n",
       "weight                        float64\n",
       "esophagus cancer                int32\n",
       "intestinal cancer               int32\n",
       "high salinity                   int32\n",
       "salted product                  int32\n",
       "fry                             int32\n",
       "fresh fruits                    int32\n",
       "fresh vegetables                int32\n",
       "smoking                         int32\n",
       "alcohol                         int32\n",
       "alcohol degree                float64\n",
       "alcohol seq                   float64\n",
       "alcohol years                 float64\n",
       "eating speed                    int32\n",
       "diabetes                      float64\n",
       "high blood                    float64\n",
       "hypertriglyceridemia          float64\n",
       "Hp                            float64\n",
       "chronic atrophic gastritis    float64\n",
       "intestinal metaplasia         float64\n",
       "dysplasia                     float64\n",
       "gastric polyps                float64\n",
       "anemia                        float64\n",
       "gastric ulcer                 float64\n",
       "G17                           float64\n",
       "hp                              int32\n",
       "PGR                             int32\n",
       "PGI                           float64\n",
       "pgii                          float64\n",
       "dtype: object"
      ]
     },
     "execution_count": 10,
     "metadata": {},
     "output_type": "execute_result"
    }
   ],
   "source": [
    "df.dtypes"
   ]
  },
  {
   "cell_type": "code",
   "execution_count": 3,
   "metadata": {},
   "outputs": [],
   "source": [
    "## 缺失值处理\n",
    "\n",
    "df=df.drop(['hot tea','height','tea','brith','id','water source'],axis=1)  #去除无用的列\n",
    "\n",
    "col0=['alcohol years','alcohol seq','alcohol degree','PGR']\n",
    "for c in col0:\n",
    "    df[c]=df[c].fillna(0)   #填充0 表示不喝酒\n",
    "\n",
    "col3=['intestinal metaplasia','dysplasia','anemia','hypertriglyceridemia','high blood','gastric ulcer','high salinity','chronic atrophic gastritis','gastric polyps']\n",
    "for c in col3:\n",
    "    df[c]=df[c].fillna(3)  #填充3  表示不确认\n",
    "    \n",
    "df.dropna(axis=0, how='any', inplace=True)  #去掉剩余的空值数据\n",
    "#axis：0-行操作（默认），1-列操作 \n",
    "#how：any-只要有空值就删除（默认），all-全部为空值才删除 \n",
    "#inplace：False-返回新的数据集（默认），True-在愿数据集上操作\n",
    "\n",
    "col_int=['weight','G17','PGI','pgii','PGR']\n",
    "for c in col_int:\n",
    "    df[c]=df[c].astype(\"float\") #部分objecct转成float\n",
    "    \n",
    "#print tf[\"sex\"].unique()\n",
    "df.loc[df[\"sex\"] == \"男\", \"sex\"] = 0\n",
    "df.loc[df[\"sex\"] == \"女\", \"sex\"] = 1\n",
    "\n",
    "\n",
    "col_bool=['gastric cancer','sex','esophagus cancer','intestinal cancer','high salinity','salted product','fry','fresh fruits','fresh vegetables','smoking','alcohol','eating speed','hp','PGR']\n",
    "for c in col_bool:\n",
    "    df[c]=df[c].astype(\"int\")   #部分bool转成int"
   ]
  },
  {
   "cell_type": "markdown",
   "metadata": {},
   "source": [
    "## 选特征"
   ]
  },
  {
   "cell_type": "code",
   "execution_count": 4,
   "metadata": {},
   "outputs": [],
   "source": [
    "features=['hp','salted product','high blood','diabetes','dysplasia','alcohol','intestinal metaplasia']\n",
    "feature=['PGR','PGI','pgii']\n",
    "# for c in features:\n",
    "#         df[c]=df[c].astype(\"int\") \n",
    "\n",
    "data_X=df[features+feature]\n",
    "data_Y=df['gastric cancer']    \n",
    "from sklearn.model_selection import train_test_split\n",
    "X,Y = data_X.values,data_Y.values\n",
    "X_train, X_test, y_train, y_test = train_test_split(X, Y, test_size=0.25, random_state=0)#随机选择25%作为测试集，剩余作为训练集"
   ]
  },
  {
   "cell_type": "markdown",
   "metadata": {},
   "source": [
    "## 训练"
   ]
  },
  {
   "cell_type": "code",
   "execution_count": 5,
   "metadata": {},
   "outputs": [
    {
     "name": "stdout",
     "output_type": "stream",
     "text": [
      "0.8466593647316539\n",
      "****************************************************************************************************\n",
      "train accuracy_score: 0.9215041986126323\n",
      "test accuracy_score: 0.9156626506024096\n",
      "train auc_sorce: 0.5\n",
      "test auc_sorce: 0.5\n",
      "****************************************************************************************************\n"
     ]
    },
    {
     "name": "stderr",
     "output_type": "stream",
     "text": [
      "D:\\software\\anaconda3\\envs\\tf2\\lib\\site-packages\\sklearn\\ensemble\\_gb.py:309: FutureWarning: The parameter 'presort' is deprecated and has no effect. It will be removed in v0.24. You can suppress this warning by not passing any value to the 'presort' parameter. We also recommend using HistGradientBoosting models instead.\n",
      "  FutureWarning)\n"
     ]
    },
    {
     "name": "stdout",
     "output_type": "stream",
     "text": [
      "0.9215041986126323\n",
      "0.9156626506024096\n",
      "              precision    recall  f1-score   support\n",
      "\n",
      "           0       0.92      1.00      0.96       836\n",
      "           1       0.00      0.00      0.00        77\n",
      "\n",
      "    accuracy                           0.92       913\n",
      "   macro avg       0.46      0.50      0.48       913\n",
      "weighted avg       0.84      0.92      0.88       913\n",
      "\n",
      "****************************************************************************************************\n"
     ]
    },
    {
     "name": "stderr",
     "output_type": "stream",
     "text": [
      "D:\\software\\anaconda3\\envs\\tf2\\lib\\site-packages\\sklearn\\metrics\\_classification.py:1221: UndefinedMetricWarning: Precision and F-score are ill-defined and being set to 0.0 in labels with no predicted samples. Use `zero_division` parameter to control this behavior.\n",
      "  _warn_prf(average, modifier, msg_start, len(result))\n",
      "D:\\software\\anaconda3\\envs\\tf2\\lib\\site-packages\\xgboost\\sklearn.py:888: UserWarning: The use of label encoder in XGBClassifier is deprecated and will be removed in a future release. To remove this warning, do the following: 1) Pass option use_label_encoder=False when constructing XGBClassifier object; and 2) Encode your labels (y) as integers starting with 0, i.e. 0, 1, 2, ..., [num_class - 1].\n",
      "  warnings.warn(label_encoder_deprecation_msg, UserWarning)\n"
     ]
    },
    {
     "name": "stdout",
     "output_type": "stream",
     "text": [
      "[21:21:08] WARNING: C:/Users/Administrator/workspace/xgboost-win64_release_1.3.0/src/learner.cc:1061: Starting in XGBoost 1.3.0, the default evaluation metric used with the objective 'binary:logistic' was changed from 'error' to 'logloss'. Explicitly set eval_metric if you'd like to restore the old behavior.\n",
      "Accuracy: 90.91%\n"
     ]
    },
    {
     "data": {
      "image/png": "[encoded data removed]",
      "text/plain": [
       "<Figure size 432x288 with 1 Axes>"
      ]
     },
     "metadata": {
      "needs_background": "light"
     },
     "output_type": "display_data"
    },
    {
     "name": "stdout",
     "output_type": "stream",
     "text": [
      "****************************************************************************************************\n"
     ]
    }
   ],
   "source": [
    "str=\"*\"*100\n",
    "#决策树\n",
    "from sklearn import tree\n",
    "from sklearn.metrics import accuracy_score\n",
    "clf = tree.DecisionTreeClassifier(criterion='entropy', random_state=0)\n",
    "clf = clf.fit(X_train, y_train)\n",
    "y_pred = clf.predict(X_test)\n",
    "accuracy = accuracy_score(y_test, y_pred)\n",
    "print(accuracy)\n",
    "print(str)\n",
    "\n",
    "\n",
    "\n",
    "##随机森林\n",
    "from sklearn.ensemble import RandomForestClassifier\n",
    "from sklearn import metrics\n",
    "model=RandomForestClassifier(n_estimators=100,max_depth=5,random_state=1)\n",
    "model.fit(X_train,y_train)\n",
    "y_train_hat = model.predict(X_train)\n",
    "y_hat = model.predict(X_test)\n",
    "print('train accuracy_score:', metrics.accuracy_score(y_train,y_train_hat))\n",
    "print('test accuracy_score:', metrics.accuracy_score(y_test,y_hat))\n",
    "print('train auc_sorce:', metrics.roc_auc_score(y_train,y_train_hat))\n",
    "print('test auc_sorce:', metrics.roc_auc_score(y_test,y_hat))\n",
    "print(str)\n",
    "\n",
    "\n",
    "##GBDT \n",
    "from sklearn.ensemble import GradientBoostingClassifier\n",
    "dtc = GradientBoostingClassifier(loss='deviance', learning_rate=0.005, n_estimators=100,\n",
    "                 subsample=1.0, min_samples_split=2,\n",
    "                 min_samples_leaf=1, min_weight_fraction_leaf=0.,\n",
    "                 max_depth=3, init=None, random_state=None,\n",
    "                 max_features=None, verbose=0,\n",
    "                 max_leaf_nodes=None, warm_start=False,\n",
    "                 presort='auto')\n",
    "\n",
    "dtc.fit(X_train,y_train)\n",
    "y_pred = dtc.predict(X_test)\n",
    "print (dtc.score(X_train,y_train))\n",
    "print (dtc.score(X_test,y_test))\n",
    "from sklearn.metrics import classification_report\n",
    "print (classification_report(y_test,y_pred))\n",
    "print(str)\n",
    "\n",
    "\n",
    "\n",
    "##Xgboost\n",
    "import xgboost\n",
    "from xgboost import XGBClassifier\n",
    "from sklearn.model_selection import train_test_split\n",
    "from xgboost import plot_importance\n",
    "from matplotlib import pyplot\n",
    "model = XGBClassifier()\n",
    "model.fit(X_train, y_train)\n",
    "y_pred = model.predict(X_test)\n",
    "predictions = [round(value) for value in y_pred]\n",
    "accuracy = accuracy_score(y_test, predictions)\n",
    "print(\"Accuracy: %.2f%%\" % (accuracy * 100.0))\n",
    "plot_importance(model)  # plot feature importance\n",
    "pyplot.show()\n",
    "print(str)"
   ]
  },
  {
   "cell_type": "code",
   "execution_count": 30,
   "metadata": {},
   "outputs": [
    {
     "data": {
      "text/plain": [
       "0.9145673603504929"
      ]
     },
     "execution_count": 30,
     "metadata": {},
     "output_type": "execute_result"
    }
   ],
   "source": [
    "#PCA\n",
    "from sklearn.preprocessing import StandardScaler\n",
    "from sklearn.decomposition import PCA\n",
    "from sklearn.linear_model import LogisticRegression\n",
    "X_train, X_test, y_train, y_test = train_test_split(X, Y, test_size=0.25, random_state=0)#随机选择25%作为测试集，剩余作为训练集\n",
    "sc = StandardScaler()\n",
    "X_train_std = sc.fit_transform(X_train)\n",
    "X_test_std = sc.fit_transform(X_test)\n",
    "pca = PCA(n_components=4) # 保留7个主成分\n",
    "lr = LogisticRegression() # 创建逻辑回归对象\n",
    "X_train_pca = pca.fit_transform(X_train_std) # 把原始训练集映射到主成分组成的子空间中\n",
    "X_test_pca = pca.transform(X_test_std) # 把原始测试集映射到主成分组成的子空间中\n",
    "lr.fit(X_train_pca, y_train) # 用逻辑回归拟合数据\n",
    "lr.score(X_test_pca, y_test) # 0.98 在测试集上的平均正确率为0.98"
   ]
  },
  {
   "cell_type": "code",
   "execution_count": 35,
   "metadata": {},
   "outputs": [
    {
     "name": "stdout",
     "output_type": "stream",
     "text": [
      "0.9156626506024096\n"
     ]
    }
   ],
   "source": [
    "from sklearn.preprocessing import StandardScaler\n",
    "ss = StandardScaler()\n",
    "x_train = ss.fit_transform(X_train) # fit_transform for train data\n",
    "x_test = ss.transform(X_test)\n",
    "# use logestic-regression\n",
    "from sklearn.linear_model import LogisticRegression\n",
    "from sklearn.metrics import classification_report\n",
    "lr = LogisticRegression()\n",
    "lr.fit(x_train, y_train)\n",
    "lr_y = lr.predict(x_test)\n",
    "print(lr.score(x_test, y_test))"
   ]
  },
  {
   "cell_type": "code",
   "execution_count": 34,
   "metadata": {},
   "outputs": [
    {
     "name": "stdout",
     "output_type": "stream",
     "text": [
      "0.9156626506024096\n"
     ]
    },
    {
     "name": "stderr",
     "output_type": "stream",
     "text": [
      "D:\\software\\anaconda3\\envs\\tf2\\lib\\site-packages\\sklearn\\svm\\_base.py:977: ConvergenceWarning: Liblinear failed to converge, increase the number of iterations.\n",
      "  \"the number of iterations.\", ConvergenceWarning)\n"
     ]
    }
   ],
   "source": [
    "# use svm\n",
    "from sklearn.preprocessing import StandardScaler\n",
    "s = StandardScaler()\n",
    "XX_train = ss.fit_transform(X_train) # fit_transform for train data\n",
    "XX_test = ss.transform(X_test)\n",
    "from sklearn.svm import LinearSVC\n",
    "lsvc = LinearSVC()\n",
    "lsvc.fit(XX_train, y_train)\n",
    "svm_y = lsvc.predict(XX_test)\n",
    "print(lsvc.score(XX_test, y_test))"
   ]
  },
  {
   "cell_type": "code",
   "execution_count": null,
   "metadata": {},
   "outputs": [],
   "source": []
  }
 ],
 "metadata": {
  "kernelspec": {
   "display_name": "Python 3",
   "language": "python",
   "name": "python3"
  },
  "language_info": {
   "codemirror_mode": {
    "name": "ipython",
    "version": 3
   },
   "file_extension": ".py",
   "mimetype": "text/x-python",
   "name": "python",
   "nbconvert_exporter": "python",
   "pygments_lexer": "ipython3",
   "version": "3.7.7"
  }
 },
 "nbformat": 4,
 "nbformat_minor": 4
}
